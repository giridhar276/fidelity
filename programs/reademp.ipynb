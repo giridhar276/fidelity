{
 "cells": [
  {
   "cell_type": "code",
   "execution_count": null,
   "id": "4501cd23",
   "metadata": {},
   "outputs": [],
   "source": [
    "import pandas as pd"
   ]
  },
  {
   "cell_type": "code",
   "execution_count": null,
   "id": "57e06829",
   "metadata": {},
   "outputs": [],
   "source": [
    "df = pd.read_csv(\"employee.csv\")"
   ]
  },
  {
   "cell_type": "code",
   "execution_count": null,
   "id": "8b59c281",
   "metadata": {},
   "outputs": [],
   "source": [
    "df"
   ]
  },
  {
   "cell_type": "code",
   "execution_count": null,
   "id": "4fec3c93",
   "metadata": {},
   "outputs": [],
   "source": [
    "# display first 5 records\n",
    "df.head(10)"
   ]
  },
  {
   "cell_type": "code",
   "execution_count": null,
   "id": "a43d9700",
   "metadata": {},
   "outputs": [],
   "source": [
    "# display last 5 records\n",
    "df.tail()"
   ]
  },
  {
   "cell_type": "code",
   "execution_count": null,
   "id": "0c8423e3",
   "metadata": {},
   "outputs": [],
   "source": [
    "output = df.tail()\n",
    "output.to_csv(\"last5records.csv\")\n",
    "\n"
   ]
  },
  {
   "cell_type": "code",
   "execution_count": null,
   "id": "cf1c3c6a",
   "metadata": {},
   "outputs": [],
   "source": [
    "#display from 10th to 15th records only\n",
    "# df.iloc[rows, columns]\n",
    "df.iloc[10:16]    # displaying from 10th to 15th row  and all the columns"
   ]
  },
  {
   "cell_type": "code",
   "execution_count": null,
   "id": "1defca84",
   "metadata": {},
   "outputs": [],
   "source": [
    "# df.iloc[rows, columns]\n",
    "df.iloc[10:16 , 0:3]"
   ]
  },
  {
   "cell_type": "code",
   "execution_count": null,
   "id": "e4898587",
   "metadata": {},
   "outputs": [],
   "source": [
    "df.iloc[:, 0:3]   # displaying all rows and first 3 columns"
   ]
  },
  {
   "cell_type": "code",
   "execution_count": null,
   "id": "8a85c20e",
   "metadata": {},
   "outputs": [],
   "source": [
    "df.iloc[:, 0:3].to_csv(\"fewrows.csv\")"
   ]
  },
  {
   "cell_type": "code",
   "execution_count": null,
   "id": "15c2d897",
   "metadata": {},
   "outputs": [],
   "source": [
    "# df.loc[rows,columns]\n",
    "df.loc[1:5, \"workclass\":\"occupation\"]  # from worklass TO occupation "
   ]
  },
  {
   "cell_type": "code",
   "execution_count": null,
   "id": "2e1dca9a",
   "metadata": {},
   "outputs": [],
   "source": [
    "df.loc[1:5, [\"workclass\",\"occupation\"]]  # only workclas and occupation"
   ]
  },
  {
   "cell_type": "code",
   "execution_count": null,
   "id": "935581a4",
   "metadata": {},
   "outputs": [],
   "source": [
    "# select workclass from table\n",
    "df['workclass']"
   ]
  },
  {
   "cell_type": "code",
   "execution_count": null,
   "id": "522ee031",
   "metadata": {},
   "outputs": [],
   "source": [
    "df[['workclass','occupation']]  # display worcklass and occupation columns only"
   ]
  },
  {
   "cell_type": "code",
   "execution_count": null,
   "id": "5e1cc4ba",
   "metadata": {},
   "outputs": [],
   "source": [
    "columns = ['workclass','occupation']\n",
    "df[columns]"
   ]
  },
  {
   "cell_type": "code",
   "execution_count": null,
   "id": "9d678b39",
   "metadata": {},
   "outputs": [],
   "source": [
    "df['workclass'].unique()     # display all distinct workclasses"
   ]
  },
  {
   "cell_type": "code",
   "execution_count": null,
   "id": "52d57697",
   "metadata": {},
   "outputs": [],
   "source": [
    "df['workclass'].nunique()     # display no. of distinct workclasses"
   ]
  },
  {
   "cell_type": "code",
   "execution_count": null,
   "id": "0c07433d",
   "metadata": {},
   "outputs": [],
   "source": [
    "df['workclass'].value_counts()"
   ]
  },
  {
   "cell_type": "code",
   "execution_count": null,
   "id": "badfc6a4",
   "metadata": {},
   "outputs": [],
   "source": [
    "df.sort_values(by = \"age\")"
   ]
  },
  {
   "cell_type": "code",
   "execution_count": null,
   "id": "19a0dbf6",
   "metadata": {},
   "outputs": [],
   "source": [
    "df.sort_values(by = \"age\", ascending= False)  # descending order\n"
   ]
  },
  {
   "cell_type": "code",
   "execution_count": null,
   "id": "a2fbd5b5",
   "metadata": {},
   "outputs": [],
   "source": [
    "df['age'].sort_values()"
   ]
  },
  {
   "cell_type": "code",
   "execution_count": null,
   "id": "950e5296",
   "metadata": {},
   "outputs": [],
   "source": [
    "# select * from tablename where workclass = 'Private'\n",
    "\n",
    "\n",
    "cond = df['workclass'] == \" Private\"\n",
    "df[cond]"
   ]
  },
  {
   "cell_type": "code",
   "execution_count": null,
   "id": "c1a85885",
   "metadata": {},
   "outputs": [],
   "source": [
    "df[df['workclass'] == \" Private\" ]"
   ]
  },
  {
   "cell_type": "code",
   "execution_count": null,
   "id": "bca559a4",
   "metadata": {},
   "outputs": [],
   "source": [
    "cond1 = df['workclass'] == \" Private\"\n",
    "cond2 = df['age'] == 19\n",
    "\n",
    "df[ cond1 & cond2]\n"
   ]
  },
  {
   "cell_type": "code",
   "execution_count": null,
   "id": "513e7f40",
   "metadata": {},
   "outputs": [],
   "source": [
    "df[(df['workclass'] == \" Private\") & (df['age'] == 19)]"
   ]
  },
  {
   "cell_type": "code",
   "execution_count": 55,
   "id": "bd3e4c8f",
   "metadata": {},
   "outputs": [],
   "source": [
    "# this is comment"
   ]
  },
  {
   "cell_type": "code",
   "execution_count": null,
   "id": "db338d93",
   "metadata": {},
   "outputs": [],
   "source": []
  },
  {
   "cell_type": "markdown",
   "id": "7e42b5c2",
   "metadata": {},
   "source": [
    "this is heading"
   ]
  },
  {
   "cell_type": "markdown",
   "id": "270e3e2d",
   "metadata": {},
   "source": [
    "# this is heading"
   ]
  },
  {
   "cell_type": "markdown",
   "id": "3da7e986",
   "metadata": {},
   "source": [
    "## this is heading"
   ]
  },
  {
   "cell_type": "markdown",
   "id": "61a99ec3",
   "metadata": {},
   "source": [
    "### this is headind"
   ]
  },
  {
   "cell_type": "code",
   "execution_count": null,
   "id": "5a3a46f2",
   "metadata": {},
   "outputs": [],
   "source": []
  }
 ],
 "metadata": {
  "kernelspec": {
   "display_name": "Python 3",
   "language": "python",
   "name": "python3"
  },
  "language_info": {
   "codemirror_mode": {
    "name": "ipython",
    "version": 3
   },
   "file_extension": ".py",
   "mimetype": "text/x-python",
   "name": "python",
   "nbconvert_exporter": "python",
   "pygments_lexer": "ipython3",
   "version": "3.13.7"
  }
 },
 "nbformat": 4,
 "nbformat_minor": 5
}
